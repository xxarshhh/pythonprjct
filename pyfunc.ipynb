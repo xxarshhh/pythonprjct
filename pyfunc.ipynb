{
  "nbformat": 4,
  "nbformat_minor": 0,
  "metadata": {
    "colab": {
      "provenance": []
    },
    "kernelspec": {
      "name": "python3",
      "display_name": "Python 3"
    },
    "language_info": {
      "name": "python"
    }
  },
  "cells": [
    {
      "cell_type": "code",
      "execution_count": null,
      "metadata": {
        "id": "PUhz_qqD_5FX"
      },
      "outputs": [],
      "source": [
        "def myfunction():\n",
        "  print(\"hello world\")"
      ]
    },
    {
      "cell_type": "code",
      "source": [
        "myfunction()"
      ],
      "metadata": {
        "colab": {
          "base_uri": "https://localhost:8080/"
        },
        "id": "I6qeNVgD__gi",
        "outputId": "d64b9c7d-b595-42be-e6d2-a76372c2fd3e"
      },
      "execution_count": null,
      "outputs": [
        {
          "output_type": "stream",
          "name": "stdout",
          "text": [
            "hello world\n"
          ]
        }
      ]
    },
    {
      "cell_type": "code",
      "source": [
        "a=10\n",
        "b=4"
      ],
      "metadata": {
        "id": "GzTOp73UC7Ul"
      },
      "execution_count": null,
      "outputs": []
    },
    {
      "cell_type": "code",
      "source": [
        "def sum_of_2_numbers(a,b=5):\n",
        "  return a+b\n",
        "print(sum_of_2_numbers(a))"
      ],
      "metadata": {
        "colab": {
          "base_uri": "https://localhost:8080/"
        },
        "id": "fBzZUj0VAGa9",
        "outputId": "c2fefa22-6c0f-4d17-feb7-a57fbb12583e"
      },
      "execution_count": null,
      "outputs": [
        {
          "output_type": "stream",
          "name": "stdout",
          "text": [
            "15\n"
          ]
        }
      ]
    },
    {
      "cell_type": "markdown",
      "source": [
        "# **Function Decorator**\n",
        "\n",
        "The most common type of decorator, which takes a function as input and returns a new function. The example above demonstrates this type."
      ],
      "metadata": {
        "id": "SyGTLGskKAvf"
      }
    },
    {
      "cell_type": "code",
      "source": [
        "def simple_decorator(func):\n",
        "    def wrapper():\n",
        "        print(\"Before calling the function.\")\n",
        "        func()\n",
        "        print(\"After calling the function.\")\n",
        "    return wrapper\n",
        "\n",
        "@simple_decorator\n",
        "def greet():\n",
        "    print(\"Hello, World!\")\n",
        "\n",
        "greet()"
      ],
      "metadata": {
        "colab": {
          "base_uri": "https://localhost:8080/"
        },
        "id": "XcpyaaeYCjRa",
        "outputId": "f110ada8-77a3-4267-ba03-8308c685cfd1"
      },
      "execution_count": null,
      "outputs": [
        {
          "output_type": "stream",
          "name": "stdout",
          "text": [
            "Before calling the function.\n",
            "Hello, World!\n",
            "After calling the function.\n"
          ]
        }
      ]
    },
    {
      "cell_type": "markdown",
      "source": [
        "## Explanation\n",
        "\n",
        "*  **simple_decorator(func)**: This decorator takes the function greet as an argument (func) and returns a new function (wrapper) that adds some functionality before and after calling the original function.\n",
        "\n",
        "*  **@simple_decorator:** This is the decorator syntax. It applies the simple_decorator to the greet function.\n",
        "\n",
        "*   **Calling greet()**: When greet() is called, it doesn't just execute the original function but first runs the added behavior from the wrapper function\n",
        "\n",
        "\n",
        "\n"
      ],
      "metadata": {
        "id": "UaHa-EyEKmi5"
      }
    },
    {
      "cell_type": "code",
      "source": [
        "class Parent:\n",
        "  def ransom(self):\n",
        "    print(\"parent ransom\")\n",
        "\n",
        "class child(Parent):\n",
        "  def ransom(self):\n",
        "    print(\"child ransom\")\n",
        "ob = child()\n",
        "ob.ransom()"
      ],
      "metadata": {
        "colab": {
          "base_uri": "https://localhost:8080/"
        },
        "id": "dM2q4jqSWtjD",
        "outputId": "0668c295-5eaa-4a5f-d054-263f7fdc0fb4"
      },
      "execution_count": null,
      "outputs": [
        {
          "output_type": "stream",
          "name": "stdout",
          "text": [
            "child ransom\n"
          ]
        }
      ]
    },
    {
      "cell_type": "code",
      "source": [
        "class Parent:\n",
        "  def ransom(self):\n",
        "    print(\"parent ransom\")\n",
        "\n",
        "class child(Parent):\n",
        "  def ransom(self):\n",
        "    print(\"child ransom\")\n",
        "\n",
        "class grandchild(child):\n",
        "  def ransom(self):\n",
        "    print(\"grandchild ransom\")\n",
        "\n",
        "ob = grandchild()\n",
        "ob.ransom()"
      ],
      "metadata": {
        "colab": {
          "base_uri": "https://localhost:8080/"
        },
        "id": "NBltOkpUXJyt",
        "outputId": "666e2e2e-143d-4ee3-c05c-bc78a93c849b"
      },
      "execution_count": null,
      "outputs": [
        {
          "output_type": "stream",
          "name": "stdout",
          "text": [
            "grandchild ransom\n"
          ]
        }
      ]
    },
    {
      "cell_type": "code",
      "source": [
        "class Animal:\n",
        "    def speak(self):\n",
        "        print(\"Animal speaks\")\n",
        "\n",
        "class Dog(Animal):\n",
        "    def bark(self):\n",
        "        print(\"Dog barks\")\n",
        "\n",
        "class Cat(Animal):\n",
        "    def meow(self):\n",
        "        print(\"Cat meows\")\n",
        "\n",
        "d = Dog()\n",
        "c = Cat()\n",
        "d.speak()\n",
        "c.speak()\n"
      ],
      "metadata": {
        "colab": {
          "base_uri": "https://localhost:8080/"
        },
        "id": "OtiSJGxNYalA",
        "outputId": "56990df8-962c-4d9c-88df-f2bc64d202c6"
      },
      "execution_count": null,
      "outputs": [
        {
          "output_type": "stream",
          "name": "stdout",
          "text": [
            "Animal speaks\n",
            "Animal speaks\n"
          ]
        }
      ]
    },
    {
      "cell_type": "code",
      "source": [
        "class Flyer:\n",
        "    def fly(self):\n",
        "        print(\"Can fly\")\n",
        "\n",
        "class Swimmer:\n",
        "    def swim(self):\n",
        "        print(\"Can swim\")\n",
        "\n",
        "class Duck(Flyer, Swimmer):\n",
        "    pass\n",
        "\n",
        "d = Duck()\n",
        "d.fly()\n",
        "d.swim()\n"
      ],
      "metadata": {
        "colab": {
          "base_uri": "https://localhost:8080/"
        },
        "id": "sWXPRRg6Y2xU",
        "outputId": "bad6b224-2921-4594-cdea-2eaa48290114"
      },
      "execution_count": null,
      "outputs": [
        {
          "output_type": "stream",
          "name": "stdout",
          "text": [
            "Can fly\n",
            "Can swim\n"
          ]
        }
      ]
    },
    {
      "cell_type": "code",
      "source": [
        "class A:\n",
        "    def method_a(self):\n",
        "        print(\"A\")\n",
        "\n",
        "class B(A):\n",
        "    def method_b(self):\n",
        "        print(\"B\")\n",
        "\n",
        "class C:\n",
        "    def method_c(self):\n",
        "        print(\"C\")\n",
        "\n",
        "class D(B, C):  # Inherits from both B and C, and B already inherits A\n",
        "    def method_d(self):\n",
        "        print(\"D\")\n",
        "\n",
        "d = D()\n",
        "d.method_a()  # From A\n",
        "d.method_b()  # From B\n",
        "d.method_c()  # From C\n",
        "d.method_d()  # Own\n"
      ],
      "metadata": {
        "colab": {
          "base_uri": "https://localhost:8080/"
        },
        "id": "E4i7wNKsbGtg",
        "outputId": "b640f40f-ac1f-41b2-f76d-7b40b397cd34"
      },
      "execution_count": null,
      "outputs": [
        {
          "output_type": "stream",
          "name": "stdout",
          "text": [
            "A\n",
            "B\n",
            "C\n",
            "D\n"
          ]
        }
      ]
    },
    {
      "cell_type": "code",
      "source": [],
      "metadata": {
        "id": "hWcUd5Tfcwja"
      },
      "execution_count": null,
      "outputs": []
    }
  ]
}